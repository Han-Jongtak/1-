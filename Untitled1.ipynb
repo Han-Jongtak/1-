{
  "nbformat": 4,
  "nbformat_minor": 0,
  "metadata": {
    "colab": {
      "name": "Untitled1.ipynb",
      "provenance": [],
      "authorship_tag": "ABX9TyN7Nuq6mQ+BgooPe1+yYxQq",
      "include_colab_link": true
    },
    "kernelspec": {
      "name": "python3",
      "display_name": "Python 3"
    }
  },
  "cells": [
    {
      "cell_type": "markdown",
      "metadata": {
        "id": "view-in-github",
        "colab_type": "text"
      },
      "source": [
        "<a href=\"https://colab.research.google.com/github/Han-Jongtak/1-/blob/master/Untitled1.ipynb\" target=\"_parent\"><img src=\"https://colab.research.google.com/assets/colab-badge.svg\" alt=\"Open In Colab\"/></a>"
      ]
    },
    {
      "cell_type": "markdown",
      "metadata": {
        "id": "wFokNz83yGp_",
        "colab_type": "text"
      },
      "source": [
        "# **인공지능 사관학교 프리코스 과제 목차**\n",
        "\n",
        "# **1주차과제**\n",
        "\n",
        "**음성 서비스**\n",
        "\n",
        "https://www.mobiinside.co.kr/2020/04/28/flitto-ai/\n",
        "\n",
        "**언어 서비스**\n",
        "\n",
        "http://www.aitimes.kr/news/articleView.html?idxno=15036\n",
        "\n",
        "\n",
        "**이미지 서비스**\n",
        "\n",
        "https://www.samsungsds.com/global/ko/news/story/visual-0214.html\n",
        "\n",
        "**자율주행 서비스**\n",
        "\n",
        "http://www.autoelectronics.co.kr/article/articleView.asp?idx=2693\n",
        "\n"
      ]
    }
  ]
}